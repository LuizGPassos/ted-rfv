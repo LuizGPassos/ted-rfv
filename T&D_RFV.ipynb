{
  "nbformat": 4,
  "nbformat_minor": 0,
  "metadata": {
    "colab": {
      "provenance": [],
      "toc_visible": true,
      "authorship_tag": "ABX9TyNR3lQsjImv39Mtc4Emdknv",
      "include_colab_link": true
    },
    "kernelspec": {
      "name": "python3",
      "display_name": "Python 3"
    },
    "language_info": {
      "name": "python"
    }
  },
  "cells": [
    {
      "cell_type": "markdown",
      "metadata": {
        "id": "view-in-github",
        "colab_type": "text"
      },
      "source": [
        "<a href=\"https://colab.research.google.com/github/LuizGPassos/ted-rfv/blob/main/T%26D_RFV.ipynb\" target=\"_parent\"><img src=\"https://colab.research.google.com/assets/colab-badge.svg\" alt=\"Open In Colab\"/></a>"
      ]
    },
    {
      "cell_type": "markdown",
      "source": [
        "# Desafio"
      ],
      "metadata": {
        "id": "CUj6DXgxZ89u"
      }
    },
    {
      "cell_type": "markdown",
      "source": [
        "- Explorar distribuições de R, F, V\n",
        "- Identificar outliers e padrões\n",
        "- Definir critérios claros de segmentação\n",
        "- Validar se segmentos fazem sentido\n"
      ],
      "metadata": {
        "id": "oukCT2bRaEni"
      }
    },
    {
      "cell_type": "markdown",
      "source": [
        "# Imports e Configs"
      ],
      "metadata": {
        "id": "kjpjxY3CVOKX"
      }
    },
    {
      "cell_type": "code",
      "source": [
        "!wget -O customer_dataset_ted.csv \"https://gist.githubusercontent.com/LuizGPassos/1ab4e770bc9cc495fc990d2b529a170e/raw/8da68f748d29adbedef5210a7244c9f5ca9de5e6/customer_dataset_ted.csv\""
      ],
      "metadata": {
        "colab": {
          "base_uri": "https://localhost:8080/"
        },
        "id": "wOPrqB_YYuZw",
        "outputId": "2a1f9989-a299-404b-cda3-af4ca5032e9f"
      },
      "execution_count": 1,
      "outputs": [
        {
          "output_type": "stream",
          "name": "stdout",
          "text": [
            "--2025-08-11 17:25:12--  https://gist.githubusercontent.com/LuizGPassos/1ab4e770bc9cc495fc990d2b529a170e/raw/8da68f748d29adbedef5210a7244c9f5ca9de5e6/customer_dataset_ted.csv\n",
            "Resolving gist.githubusercontent.com (gist.githubusercontent.com)... 185.199.110.133, 185.199.109.133, 185.199.111.133, ...\n",
            "Connecting to gist.githubusercontent.com (gist.githubusercontent.com)|185.199.110.133|:443... connected.\n",
            "HTTP request sent, awaiting response... 200 OK\n",
            "Length: 2570 (2.5K) [text/plain]\n",
            "Saving to: ‘customer_dataset_ted.csv’\n",
            "\n",
            "customer_dataset_te 100%[===================>]   2.51K  --.-KB/s    in 0s      \n",
            "\n",
            "2025-08-11 17:25:12 (14.8 MB/s) - ‘customer_dataset_ted.csv’ saved [2570/2570]\n",
            "\n"
          ]
        }
      ]
    },
    {
      "cell_type": "code",
      "execution_count": 2,
      "metadata": {
        "id": "nLKuAJZYVLK8"
      },
      "outputs": [],
      "source": [
        "from pyspark.sql.functions import *\n",
        "from pyspark.sql import SparkSession\n",
        "from pyspark.sql.window import Window"
      ]
    },
    {
      "cell_type": "code",
      "source": [
        "spark = SparkSession.builder.getOrCreate()"
      ],
      "metadata": {
        "id": "Uz3qiZcEYlCT"
      },
      "execution_count": 3,
      "outputs": []
    },
    {
      "cell_type": "markdown",
      "source": [
        "# Tabelas e Variáveis"
      ],
      "metadata": {
        "id": "tBE5zu2HVSvi"
      }
    },
    {
      "cell_type": "code",
      "source": [
        "df = spark.read.csv(\"customer_dataset_ted.csv\",header=True,inferSchema=True)\n",
        "df.show()"
      ],
      "metadata": {
        "id": "WneU3ht9VT8-",
        "colab": {
          "base_uri": "https://localhost:8080/"
        },
        "outputId": "8ecb6049-7621-495a-8413-38c6d5a22071"
      },
      "execution_count": 4,
      "outputs": [
        {
          "output_type": "stream",
          "name": "stdout",
          "text": [
            "+-----------+-----------------+-------------------+-------------------+------------+-----------+------------------+-------------+---------------+------------------------+------------------------+\n",
            "|customer_id|favorite_category|acquisition_channel|first_purchase_date|total_orders|total_spent|last_purchase_date|returns_count|avg_order_value|days_since_last_purchase|customer_lifetime_months|\n",
            "+-----------+-----------------+-------------------+-------------------+------------+-----------+------------------+-------------+---------------+------------------------+------------------------+\n",
            "|   CUST0001|          Tablets|             Google|         2022-11-16|          10|      17302|        2024-03-25|            0|           1730|                     124|                      20|\n",
            "|   CUST0002|            Games|             Google|         2023-04-18|          21|      18160|        2024-07-21|            0|            865|                       6|                      15|\n",
            "|   CUST0003|          Tablets|           Orgânico|         2023-01-10|          16|       7309|        2024-04-30|            0|            457|                      88|                      18|\n",
            "|   CUST0004|            Audio|           Facebook|         2022-08-11|           7|       7844|        2024-04-16|            1|           1121|                     101|                      23|\n",
            "|   CUST0005|       Acessórios|           Facebook|         2023-10-15|           5|       1075|        2023-09-08|            2|            215|                     323|                       9|\n",
            "|   CUST0006|       Acessórios|          Indicação|         2024-05-02|           1|       2100|        2024-06-18|            1|           2100|                      39|                       2|\n",
            "|   CUST0007|          Tablets|              Email|         2023-02-17|           5|       4597|        2024-03-01|            1|            919|                     148|                      17|\n",
            "|   CUST0008|          Tablets|              Email|         2023-10-30|          19|       8982|        2024-06-16|            1|            473|                      41|                       8|\n",
            "|   CUST0009|            Games|             Google|         2024-03-11|           6|       2014|        2024-04-09|            0|            336|                     109|                       4|\n",
            "|   CUST0010|            Audio|           Orgânico|         2023-05-06|          32|      17626|        2024-07-16|            0|            551|                      11|                      14|\n",
            "|   CUST0011|        Notebooks|           Facebook|         2023-01-12|          12|       6432|        2024-02-14|            2|            536|                     164|                      18|\n",
            "|   CUST0012|      Smartphones|             Google|         2022-07-22|           4|       3521|        2024-01-11|            0|            880|                     198|                      24|\n",
            "|   CUST0013|            Games|          Indicação|         2022-09-19|          25|      13987|        2024-07-27|            1|            559|                       0|                      22|\n",
            "|   CUST0014|            Audio|              Email|         2023-03-03|           3|       2789|        2024-05-19|            1|            930|                      69|                      16|\n",
            "|   CUST0015|          Tablets|           Orgânico|         2022-11-28|           8|       6234|        2024-06-02|            0|            779|                      55|                      20|\n",
            "|   CUST0016|       Acessórios|           Facebook|         2024-06-15|           2|        845|        2024-06-22|            0|            423|                      35|                       1|\n",
            "|   CUST0017|            Games|             Google|         2022-12-04|          16|      14523|        2024-07-18|            0|            908|                       9|                      19|\n",
            "|   CUST0018|      Smartphones|              Email|         2022-08-29|           6|       2945|        2023-10-31|            3|            491|                     270|                      23|\n",
            "|   CUST0019|            Audio|          Indicação|         2023-04-07|          29|      19876|        2024-07-25|            2|            685|                       2|                      15|\n",
            "|   CUST0020|        Notebooks|           Orgânico|         2024-05-13|           3|       1654|        2024-07-15|            1|            551|                      12|                       2|\n",
            "+-----------+-----------------+-------------------+-------------------+------------+-----------+------------------+-------------+---------------+------------------------+------------------------+\n",
            "only showing top 20 rows\n",
            "\n"
          ]
        }
      ]
    },
    {
      "cell_type": "code",
      "source": [
        "df = (\n",
        "    df\n",
        "    .withColumn(\"first_purchase_date\", to_date(\"first_purchase_date\"))\n",
        "    .withColumn(\"last_purchase_date\", to_date(\"last_purchase_date\"))\n",
        "    .withColumn(\"total_orders\", col(\"total_orders\").cast(\"int\"))\n",
        "    .withColumn(\"total_spent\", col(\"total_spent\").cast(\"double\"))\n",
        "    .withColumn(\"avg_order_value\", col(\"avg_order_value\").cast(\"double\"))\n",
        "    .withColumn(\"days_since_last_purchase\", col(\"days_since_last_purchase\").cast(\"int\"))\n",
        "    .withColumn(\"customer_lifetime_months\", col(\"customer_lifetime_months\").cast(\"int\"))\n",
        "    .withColumn(\"returns_count\", col(\"returns_count\").cast(\"int\"))\n",
        ")\n",
        "df.describe()"
      ],
      "metadata": {
        "colab": {
          "base_uri": "https://localhost:8080/"
        },
        "id": "Ff2cDxRl_fRu",
        "outputId": "722b6117-a26c-4747-8a00-fc191624b5bd"
      },
      "execution_count": 5,
      "outputs": [
        {
          "output_type": "execute_result",
          "data": {
            "text/plain": [
              "DataFrame[summary: string, customer_id: string, favorite_category: string, acquisition_channel: string, total_orders: string, total_spent: string, returns_count: string, avg_order_value: string, days_since_last_purchase: string, customer_lifetime_months: string]"
            ]
          },
          "metadata": {},
          "execution_count": 5
        }
      ]
    },
    {
      "cell_type": "markdown",
      "source": [
        "# Querys"
      ],
      "metadata": {
        "id": "izPlLzEzVUUO"
      }
    },
    {
      "cell_type": "code",
      "source": [
        "rfv = (\n",
        "    df\n",
        "    .select(\n",
        "        \"customer_id\",\"favorite_category\",\"acquisition_channel\",\n",
        "        \"first_purchase_date\",\"last_purchase_date\",\"customer_lifetime_months\",\"returns_count\",\n",
        "        col(\"days_since_last_purchase\").alias(\"R\"),\n",
        "        col(\"total_orders\").alias(\"F\"),\n",
        "        col(\"total_spent\").alias(\"V\"),\n",
        "        col(\"avg_order_value\").alias(\"AOV\")\n",
        "    )\n",
        ")\n",
        "\n",
        "rfv.show()"
      ],
      "metadata": {
        "id": "AtnL2gMSVVfb",
        "colab": {
          "base_uri": "https://localhost:8080/"
        },
        "outputId": "a22d6446-b441-4762-f731-cdeff5a0314c"
      },
      "execution_count": 6,
      "outputs": [
        {
          "output_type": "stream",
          "name": "stdout",
          "text": [
            "+-----------+-----------------+-------------------+-------------------+------------------+------------------------+-------------+---+---+-------+------+\n",
            "|customer_id|favorite_category|acquisition_channel|first_purchase_date|last_purchase_date|customer_lifetime_months|returns_count|  R|  F|      V|   AOV|\n",
            "+-----------+-----------------+-------------------+-------------------+------------------+------------------------+-------------+---+---+-------+------+\n",
            "|   CUST0001|          Tablets|             Google|         2022-11-16|        2024-03-25|                      20|            0|124| 10|17302.0|1730.0|\n",
            "|   CUST0002|            Games|             Google|         2023-04-18|        2024-07-21|                      15|            0|  6| 21|18160.0| 865.0|\n",
            "|   CUST0003|          Tablets|           Orgânico|         2023-01-10|        2024-04-30|                      18|            0| 88| 16| 7309.0| 457.0|\n",
            "|   CUST0004|            Audio|           Facebook|         2022-08-11|        2024-04-16|                      23|            1|101|  7| 7844.0|1121.0|\n",
            "|   CUST0005|       Acessórios|           Facebook|         2023-10-15|        2023-09-08|                       9|            2|323|  5| 1075.0| 215.0|\n",
            "|   CUST0006|       Acessórios|          Indicação|         2024-05-02|        2024-06-18|                       2|            1| 39|  1| 2100.0|2100.0|\n",
            "|   CUST0007|          Tablets|              Email|         2023-02-17|        2024-03-01|                      17|            1|148|  5| 4597.0| 919.0|\n",
            "|   CUST0008|          Tablets|              Email|         2023-10-30|        2024-06-16|                       8|            1| 41| 19| 8982.0| 473.0|\n",
            "|   CUST0009|            Games|             Google|         2024-03-11|        2024-04-09|                       4|            0|109|  6| 2014.0| 336.0|\n",
            "|   CUST0010|            Audio|           Orgânico|         2023-05-06|        2024-07-16|                      14|            0| 11| 32|17626.0| 551.0|\n",
            "|   CUST0011|        Notebooks|           Facebook|         2023-01-12|        2024-02-14|                      18|            2|164| 12| 6432.0| 536.0|\n",
            "|   CUST0012|      Smartphones|             Google|         2022-07-22|        2024-01-11|                      24|            0|198|  4| 3521.0| 880.0|\n",
            "|   CUST0013|            Games|          Indicação|         2022-09-19|        2024-07-27|                      22|            1|  0| 25|13987.0| 559.0|\n",
            "|   CUST0014|            Audio|              Email|         2023-03-03|        2024-05-19|                      16|            1| 69|  3| 2789.0| 930.0|\n",
            "|   CUST0015|          Tablets|           Orgânico|         2022-11-28|        2024-06-02|                      20|            0| 55|  8| 6234.0| 779.0|\n",
            "|   CUST0016|       Acessórios|           Facebook|         2024-06-15|        2024-06-22|                       1|            0| 35|  2|  845.0| 423.0|\n",
            "|   CUST0017|            Games|             Google|         2022-12-04|        2024-07-18|                      19|            0|  9| 16|14523.0| 908.0|\n",
            "|   CUST0018|      Smartphones|              Email|         2022-08-29|        2023-10-31|                      23|            3|270|  6| 2945.0| 491.0|\n",
            "|   CUST0019|            Audio|          Indicação|         2023-04-07|        2024-07-25|                      15|            2|  2| 29|19876.0| 685.0|\n",
            "|   CUST0020|        Notebooks|           Orgânico|         2024-05-13|        2024-07-15|                       2|            1| 12|  3| 1654.0| 551.0|\n",
            "+-----------+-----------------+-------------------+-------------------+------------------+------------------------+-------------+---+---+-------+------+\n",
            "only showing top 20 rows\n",
            "\n"
          ]
        }
      ]
    },
    {
      "cell_type": "code",
      "source": [
        "summary_exprs = {\n",
        "    \"R\": [\"count\",\"mean\",\"percentile_approx\"],\n",
        "    \"F\": [\"mean\",\"percentile_approx\"],\n",
        "    \"V\": [\"mean\",\"percentile_approx\"],\n",
        "    \"AOV\": [\"mean\",\"percentile_approx\"]\n",
        "}\n",
        "percentis = [0.25, 0.5, 0.75, 0.9]\n",
        "\n",
        "stats = (\n",
        "    rfv\n",
        "    .agg(\n",
        "        count(\"*\").alias(\"n_clientes\"),\n",
        "        mean(\"R\").alias(\"R_media\"),\n",
        "        expr(f\"percentile_approx(R, array({','.join(map(str,percentis))}))\").alias(\"R_pct\"),\n",
        "        mean(\"F\").alias(\"F_media\"),\n",
        "        expr(f\"percentile_approx(F, array({','.join(map(str,percentis))}))\").alias(\"F_pct\"),\n",
        "        mean(\"V\").alias(\"V_media\"),\n",
        "        expr(f\"percentile_approx(V, array({','.join(map(str,percentis))}))\").alias(\"V_pct\"),\n",
        "        mean(\"AOV\").alias(\"AOV_media\"),\n",
        "        expr(f\"percentile_approx(AOV, array({','.join(map(str,percentis))}))\").alias(\"AOV_pct\"),\n",
        "    )\n",
        ")\n",
        "\n",
        "stats.show()"
      ],
      "metadata": {
        "colab": {
          "base_uri": "https://localhost:8080/"
        },
        "id": "-3cQP8LxCP6e",
        "outputId": "45e2ded6-4196-4a52-d722-cec47ad6faa4"
      },
      "execution_count": 7,
      "outputs": [
        {
          "output_type": "stream",
          "name": "stdout",
          "text": [
            "+----------+-------+------------------+-----------------+--------------+------------------+--------------------+-----------------+--------------------+\n",
            "|n_clientes|R_media|             R_pct|          F_media|         F_pct|           V_media|               V_pct|        AOV_media|             AOV_pct|\n",
            "+----------+-------+------------------+-----------------+--------------+------------------+--------------------+-----------------+--------------------+\n",
            "|        35|   92.2|[10, 53, 164, 242]|10.82857142857143|[5, 8, 16, 23]|7965.5142857142855|[2945.0, 6432.0, ...|766.8571428571429|[551.0, 759.0, 88...|\n",
            "+----------+-------+------------------+-----------------+--------------+------------------+--------------------+-----------------+--------------------+\n",
            "\n"
          ]
        }
      ]
    },
    {
      "cell_type": "code",
      "source": [
        "def iqr_bounds(df, col):\n",
        "    q = df.approxQuantile(col, [0.25, 0.75], 0.01)\n",
        "    Q1, Q3 = q[0], q[1]\n",
        "    IQR = Q3 - Q1\n",
        "    lower = Q1 - 1.5*IQR\n",
        "    upper = Q3 + 1.5*IQR\n",
        "    return lower, upper\n",
        "\n",
        "bounds = {}\n",
        "for c in [\"R\",\"F\",\"V\",\"AOV\"]:\n",
        "    bounds[c] = iqr_bounds(rfv, c)\n",
        "\n",
        "rfv_out = (\n",
        "    rfv\n",
        "    .withColumn(\"out_R\",  (col(\"R\")  < lit(bounds[\"R\"][0]))  | (col(\"R\")  > lit(bounds[\"R\"][1])))\n",
        "    .withColumn(\"out_F\",  (col(\"F\")  < lit(bounds[\"F\"][0]))  | (col(\"F\")  > lit(bounds[\"F\"][1])))\n",
        "    .withColumn(\"out_V\",  (col(\"V\")  < lit(bounds[\"V\"][0]))  | (col(\"V\")  > lit(bounds[\"V\"][1])))\n",
        "    .withColumn(\"out_AOV\",(col(\"AOV\")< lit(bounds[\"AOV\"][0]))| (col(\"AOV\")> lit(bounds[\"AOV\"][1])))\n",
        ")\n",
        "\n",
        "rfv_out.show()"
      ],
      "metadata": {
        "colab": {
          "base_uri": "https://localhost:8080/"
        },
        "id": "0_4CXPyvDmfA",
        "outputId": "7cc4f61e-e262-462c-a736-7d06132ddf00"
      },
      "execution_count": 8,
      "outputs": [
        {
          "output_type": "stream",
          "name": "stdout",
          "text": [
            "+-----------+-----------------+-------------------+-------------------+------------------+------------------------+-------------+---+---+-------+------+-----+-----+-----+-------+\n",
            "|customer_id|favorite_category|acquisition_channel|first_purchase_date|last_purchase_date|customer_lifetime_months|returns_count|  R|  F|      V|   AOV|out_R|out_F|out_V|out_AOV|\n",
            "+-----------+-----------------+-------------------+-------------------+------------------+------------------------+-------------+---+---+-------+------+-----+-----+-----+-------+\n",
            "|   CUST0001|          Tablets|             Google|         2022-11-16|        2024-03-25|                      20|            0|124| 10|17302.0|1730.0|false|false|false|   true|\n",
            "|   CUST0002|            Games|             Google|         2023-04-18|        2024-07-21|                      15|            0|  6| 21|18160.0| 865.0|false|false|false|  false|\n",
            "|   CUST0003|          Tablets|           Orgânico|         2023-01-10|        2024-04-30|                      18|            0| 88| 16| 7309.0| 457.0|false|false|false|  false|\n",
            "|   CUST0004|            Audio|           Facebook|         2022-08-11|        2024-04-16|                      23|            1|101|  7| 7844.0|1121.0|false|false|false|  false|\n",
            "|   CUST0005|       Acessórios|           Facebook|         2023-10-15|        2023-09-08|                       9|            2|323|  5| 1075.0| 215.0|false|false|false|  false|\n",
            "|   CUST0006|       Acessórios|          Indicação|         2024-05-02|        2024-06-18|                       2|            1| 39|  1| 2100.0|2100.0|false|false|false|   true|\n",
            "|   CUST0007|          Tablets|              Email|         2023-02-17|        2024-03-01|                      17|            1|148|  5| 4597.0| 919.0|false|false|false|  false|\n",
            "|   CUST0008|          Tablets|              Email|         2023-10-30|        2024-06-16|                       8|            1| 41| 19| 8982.0| 473.0|false|false|false|  false|\n",
            "|   CUST0009|            Games|             Google|         2024-03-11|        2024-04-09|                       4|            0|109|  6| 2014.0| 336.0|false|false|false|  false|\n",
            "|   CUST0010|            Audio|           Orgânico|         2023-05-06|        2024-07-16|                      14|            0| 11| 32|17626.0| 551.0|false|false|false|  false|\n",
            "|   CUST0011|        Notebooks|           Facebook|         2023-01-12|        2024-02-14|                      18|            2|164| 12| 6432.0| 536.0|false|false|false|  false|\n",
            "|   CUST0012|      Smartphones|             Google|         2022-07-22|        2024-01-11|                      24|            0|198|  4| 3521.0| 880.0|false|false|false|  false|\n",
            "|   CUST0013|            Games|          Indicação|         2022-09-19|        2024-07-27|                      22|            1|  0| 25|13987.0| 559.0|false|false|false|  false|\n",
            "|   CUST0014|            Audio|              Email|         2023-03-03|        2024-05-19|                      16|            1| 69|  3| 2789.0| 930.0|false|false|false|  false|\n",
            "|   CUST0015|          Tablets|           Orgânico|         2022-11-28|        2024-06-02|                      20|            0| 55|  8| 6234.0| 779.0|false|false|false|  false|\n",
            "|   CUST0016|       Acessórios|           Facebook|         2024-06-15|        2024-06-22|                       1|            0| 35|  2|  845.0| 423.0|false|false|false|  false|\n",
            "|   CUST0017|            Games|             Google|         2022-12-04|        2024-07-18|                      19|            0|  9| 16|14523.0| 908.0|false|false|false|  false|\n",
            "|   CUST0018|      Smartphones|              Email|         2022-08-29|        2023-10-31|                      23|            3|270|  6| 2945.0| 491.0|false|false|false|  false|\n",
            "|   CUST0019|            Audio|          Indicação|         2023-04-07|        2024-07-25|                      15|            2|  2| 29|19876.0| 685.0|false|false|false|  false|\n",
            "|   CUST0020|        Notebooks|           Orgânico|         2024-05-13|        2024-07-15|                       2|            1| 12|  3| 1654.0| 551.0|false|false|false|  false|\n",
            "+-----------+-----------------+-------------------+-------------------+------------------+------------------------+-------------+---+---+-------+------+-----+-----+-----+-------+\n",
            "only showing top 20 rows\n",
            "\n"
          ]
        }
      ]
    },
    {
      "cell_type": "code",
      "source": [
        "\n",
        "qs = [0.2,0.4,0.6,0.8]\n",
        "qR = rfv.approxQuantile(\"R\", qs, 0.01)\n",
        "qF = rfv.approxQuantile(\"F\", qs, 0.01)\n",
        "qV = rfv.approxQuantile(\"V\", qs, 0.01)\n",
        "\n",
        "def score_from_quantiles(col, q, reverse=False):\n",
        "    conds = [\n",
        "        (col <= q[0], 1),\n",
        "        (col <= q[1], 2),\n",
        "        (col <= q[2], 3),\n",
        "        (col <= q[3], 4),\n",
        "    ]\n",
        "\n",
        "    def expr():\n",
        "        e = when(conds[0][0], 1).when(conds[1][0], 2).when(conds[2][0], 3).when(conds[3][0], 4).otherwise(5)\n",
        "        return (6 - e) if reverse else e\n",
        "    return expr()\n",
        "\n",
        "rfv_scored = (\n",
        "    rfv_out\n",
        "    .withColumn(\"R_score\", score_from_quantiles(col(\"R\"), qR, reverse=True))\n",
        "    .withColumn(\"F_score\", score_from_quantiles(col(\"F\"), qF, reverse=False))\n",
        "    .withColumn(\"V_score\", score_from_quantiles(col(\"V\"), qV, reverse=False))\n",
        "    .withColumn(\"RFV_score\", col(\"R_score\")+col(\"F_score\")+col(\"V_score\"))\n",
        ")\n",
        "rfv_scored.show()"
      ],
      "metadata": {
        "colab": {
          "base_uri": "https://localhost:8080/"
        },
        "id": "A3u-jTNVFkuf",
        "outputId": "167d981f-6a1e-4002-b7a4-e0c9a21a93a9"
      },
      "execution_count": 9,
      "outputs": [
        {
          "output_type": "stream",
          "name": "stdout",
          "text": [
            "+-----------+-----------------+-------------------+-------------------+------------------+------------------------+-------------+---+---+-------+------+-----+-----+-----+-------+-------+-------+-------+---------+\n",
            "|customer_id|favorite_category|acquisition_channel|first_purchase_date|last_purchase_date|customer_lifetime_months|returns_count|  R|  F|      V|   AOV|out_R|out_F|out_V|out_AOV|R_score|F_score|V_score|RFV_score|\n",
            "+-----------+-----------------+-------------------+-------------------+------------------+------------------------+-------------+---+---+-------+------+-----+-----+-----+-------+-------+-------+-------+---------+\n",
            "|   CUST0001|          Tablets|             Google|         2022-11-16|        2024-03-25|                      20|            0|124| 10|17302.0|1730.0|false|false|false|   true|      2|      3|      5|       10|\n",
            "|   CUST0002|            Games|             Google|         2023-04-18|        2024-07-21|                      15|            0|  6| 21|18160.0| 865.0|false|false|false|  false|      5|      5|      5|       15|\n",
            "|   CUST0003|          Tablets|           Orgânico|         2023-01-10|        2024-04-30|                      18|            0| 88| 16| 7309.0| 457.0|false|false|false|  false|      3|      4|      3|       10|\n",
            "|   CUST0004|            Audio|           Facebook|         2022-08-11|        2024-04-16|                      23|            1|101|  7| 7844.0|1121.0|false|false|false|  false|      2|      3|      4|        9|\n",
            "|   CUST0005|       Acessórios|           Facebook|         2023-10-15|        2023-09-08|                       9|            2|323|  5| 1075.0| 215.0|false|false|false|  false|      1|      2|      1|        4|\n",
            "|   CUST0006|       Acessórios|          Indicação|         2024-05-02|        2024-06-18|                       2|            1| 39|  1| 2100.0|2100.0|false|false|false|   true|      3|      1|      1|        5|\n",
            "|   CUST0007|          Tablets|              Email|         2023-02-17|        2024-03-01|                      17|            1|148|  5| 4597.0| 919.0|false|false|false|  false|      2|      2|      2|        6|\n",
            "|   CUST0008|          Tablets|              Email|         2023-10-30|        2024-06-16|                       8|            1| 41| 19| 8982.0| 473.0|false|false|false|  false|      3|      5|      4|       12|\n",
            "|   CUST0009|            Games|             Google|         2024-03-11|        2024-04-09|                       4|            0|109|  6| 2014.0| 336.0|false|false|false|  false|      2|      2|      1|        5|\n",
            "|   CUST0010|            Audio|           Orgânico|         2023-05-06|        2024-07-16|                      14|            0| 11| 32|17626.0| 551.0|false|false|false|  false|      4|      5|      5|       14|\n",
            "|   CUST0011|        Notebooks|           Facebook|         2023-01-12|        2024-02-14|                      18|            2|164| 12| 6432.0| 536.0|false|false|false|  false|      2|      4|      3|        9|\n",
            "|   CUST0012|      Smartphones|             Google|         2022-07-22|        2024-01-11|                      24|            0|198|  4| 3521.0| 880.0|false|false|false|  false|      1|      1|      2|        4|\n",
            "|   CUST0013|            Games|          Indicação|         2022-09-19|        2024-07-27|                      22|            1|  0| 25|13987.0| 559.0|false|false|false|  false|      5|      5|      4|       14|\n",
            "|   CUST0014|            Audio|              Email|         2023-03-03|        2024-05-19|                      16|            1| 69|  3| 2789.0| 930.0|false|false|false|  false|      3|      1|      2|        6|\n",
            "|   CUST0015|          Tablets|           Orgânico|         2022-11-28|        2024-06-02|                      20|            0| 55|  8| 6234.0| 779.0|false|false|false|  false|      3|      3|      3|        9|\n",
            "|   CUST0016|       Acessórios|           Facebook|         2024-06-15|        2024-06-22|                       1|            0| 35|  2|  845.0| 423.0|false|false|false|  false|      4|      1|      1|        6|\n",
            "|   CUST0017|            Games|             Google|         2022-12-04|        2024-07-18|                      19|            0|  9| 16|14523.0| 908.0|false|false|false|  false|      4|      4|      4|       12|\n",
            "|   CUST0018|      Smartphones|              Email|         2022-08-29|        2023-10-31|                      23|            3|270|  6| 2945.0| 491.0|false|false|false|  false|      1|      2|      2|        5|\n",
            "|   CUST0019|            Audio|          Indicação|         2023-04-07|        2024-07-25|                      15|            2|  2| 29|19876.0| 685.0|false|false|false|  false|      5|      5|      5|       15|\n",
            "|   CUST0020|        Notebooks|           Orgânico|         2024-05-13|        2024-07-15|                       2|            1| 12|  3| 1654.0| 551.0|false|false|false|  false|      4|      1|      1|        6|\n",
            "+-----------+-----------------+-------------------+-------------------+------------------+------------------------+-------------+---+---+-------+------+-----+-----+-----+-------+-------+-------+-------+---------+\n",
            "only showing top 20 rows\n",
            "\n"
          ]
        }
      ]
    },
    {
      "cell_type": "code",
      "source": [
        "rfv_segments = (\n",
        "    rfv_scored\n",
        "    .withColumn(\n",
        "        \"segment\",\n",
        "          when( (col(\"R_score\")>=4) & (col(\"F_score\")>=4) & (col(\"V_score\")>=4), \"Champions\")\n",
        "         .when( (col(\"R_score\")>=4) & (col(\"F_score\")>=3), \"Leais\")\n",
        "         .when( (col(\"R_score\")<=2) & (col(\"F_score\")>=4) & (col(\"V_score\")>=3), \"Em Risco (VIP sumido)\")\n",
        "         .when( (col(\"R_score\")>=3) & (col(\"V_score\")>=4) & (col(\"F_score\")<=2),\"Grandes Gastos Ocas.\")\n",
        "         .when( (col(\"R_score\")>=3) & (col(\"F_score\")<=2) & (col(\"V_score\")<=2),\"Novos / Potenciais\")\n",
        "         .otherwise(\"Morno\")\n",
        "    )\n",
        ")\n",
        "\n",
        "seg_sizes = rfv_segments.groupBy(\"segment\").agg(\n",
        "    count(\"*\").alias(\"n\"),\n",
        "    mean(\"R\").alias(\"R_med\"),\n",
        "    mean(\"F\").alias(\"F_med\"),\n",
        "    mean(\"V\").alias(\"V_med\"),\n",
        "    mean(\"AOV\").alias(\"AOV_med\"),\n",
        "    mean(\"returns_count\").alias(\"devol_med\")\n",
        ").orderBy(desc(\"n\"))\n",
        "\n",
        "seg_sizes.show()"
      ],
      "metadata": {
        "colab": {
          "base_uri": "https://localhost:8080/"
        },
        "id": "PryhJYwEHXd6",
        "outputId": "260be9f4-9735-4528-c0a6-fdcfbc52ac88"
      },
      "execution_count": 10,
      "outputs": [
        {
          "output_type": "stream",
          "name": "stdout",
          "text": [
            "+--------------------+---+-----------------+------------------+------------------+-----------------+-------------------+\n",
            "|             segment|  n|            R_med|             F_med|             V_med|          AOV_med|          devol_med|\n",
            "+--------------------+---+-----------------+------------------+------------------+-----------------+-------------------+\n",
            "|               Morno| 16|           170.25|             7.875|         5883.0625|           763.75|              1.125|\n",
            "|           Champions| 11|6.636363636363637|20.272727272727273|15081.636363636364|770.4545454545455| 0.7272727272727273|\n",
            "|  Novos / Potenciais|  7|             38.0|2.5714285714285716|            1762.0|801.2857142857143|0.42857142857142855|\n",
            "|Em Risco (VIP sum...|  1|            164.0|              12.0|            6432.0|            536.0|                2.0|\n",
            "+--------------------+---+-----------------+------------------+------------------+-----------------+-------------------+\n",
            "\n"
          ]
        }
      ]
    },
    {
      "cell_type": "code",
      "source": [
        "rfv_buckets = (\n",
        "    rfv_segments\n",
        "    .withColumn(\"R_bin\", when(col(\"R\")<=qR[0],\"R1\").when(col(\"R\")<=qR[1],\"R2\").when(col(\"R\")<=qR[2],\"R3\").when(col(\"R\")<=qR[3],\"R4\").otherwise(\"R5\"))\n",
        "    .withColumn(\"F_bin\", when(col(\"F\")<=qF[0],\"F1\").when(col(\"F\")<=qF[1],\"F2\").when(col(\"F\")<=qF[2],\"F3\").when(col(\"F\")<=qF[3],\"F4\").otherwise(\"F5\"))\n",
        "    .withColumn(\"V_bin\", when(col(\"V\")<=qV[0],\"V1\").when(col(\"V\")<=qV[1],\"V2\").when(col(\"V\")<=qV[2],\"V3\").when(col(\"V\")<=qV[3],\"V4\").otherwise(\"V5\"))\n",
        ")\n",
        "\n",
        "rxv = (\n",
        "    rfv_buckets.groupBy(\"R_bin\")\n",
        "    .pivot(\"V_bin\")\n",
        "    .agg(mean(\"V\").alias(\"V_med\"))\n",
        "    .orderBy(\"R_bin\")\n",
        ")\n",
        "\n",
        "canal_seg = (\n",
        "    rfv_buckets.groupBy(\"acquisition_channel\",\"segment\")\n",
        "    .agg(count(\"*\").alias(\"n\"), mean(\"V\").alias(\"V_med\"))\n",
        "    .orderBy(\"acquisition_channel\",\"segment\")\n",
        ")\n",
        "\n",
        "canal_seg.show()"
      ],
      "metadata": {
        "colab": {
          "base_uri": "https://localhost:8080/"
        },
        "id": "JssJV7yHHzGg",
        "outputId": "ecd80244-59f1-4733-d63e-0263ddbdd103"
      },
      "execution_count": 11,
      "outputs": [
        {
          "output_type": "stream",
          "name": "stdout",
          "text": [
            "+-------------------+--------------------+---+-----------------+\n",
            "|acquisition_channel|             segment|  n|            V_med|\n",
            "+-------------------+--------------------+---+-----------------+\n",
            "|              Email|               Morno|  5|           5433.0|\n",
            "|              Email|  Novos / Potenciais|  2|           3122.5|\n",
            "|           Facebook|Em Risco (VIP sum...|  1|           6432.0|\n",
            "|           Facebook|               Morno|  4|          4590.75|\n",
            "|           Facebook|  Novos / Potenciais|  2|            706.0|\n",
            "|             Google|           Champions|  5|          14017.8|\n",
            "|             Google|               Morno|  3|7612.333333333333|\n",
            "|          Indicação|           Champions|  5|          15636.6|\n",
            "|          Indicação|  Novos / Potenciais|  1|           2100.0|\n",
            "|           Orgânico|           Champions|  1|          17626.0|\n",
            "|           Orgânico|               Morno|  4|           6441.0|\n",
            "|           Orgânico|  Novos / Potenciais|  2|           1288.5|\n",
            "+-------------------+--------------------+---+-----------------+\n",
            "\n"
          ]
        }
      ]
    },
    {
      "cell_type": "code",
      "source": [
        "rfv_cohort = (\n",
        "    rfv_buckets\n",
        "    .withColumn(\"cohort_month\", date_format(trunc(\"first_purchase_date\",\"MM\"), \"yyyy-MM\"))\n",
        "    .groupBy(\"cohort_month\")\n",
        "    .agg(\n",
        "        count(\"*\").alias(\"n_clientes\"),\n",
        "        mean(\"F\").alias(\"F_med\"),\n",
        "        mean(\"V\").alias(\"V_med\"),\n",
        "        mean(\"R\").alias(\"R_med\")\n",
        "    )\n",
        "    .orderBy(\"cohort_month\")\n",
        ")\n",
        "\n",
        "rfv_cohort.show()\n"
      ],
      "metadata": {
        "colab": {
          "base_uri": "https://localhost:8080/"
        },
        "id": "eEi4ZIduIurj",
        "outputId": "dff4cdca-d441-4415-f7c4-f162dbfec52e"
      },
      "execution_count": 12,
      "outputs": [
        {
          "output_type": "stream",
          "name": "stdout",
          "text": [
            "+------------+----------+-----+------------------+------------------+\n",
            "|cohort_month|n_clientes|F_med|             V_med|             R_med|\n",
            "+------------+----------+-----+------------------+------------------+\n",
            "|     2022-07|         2|  4.5|            3921.0|             270.5|\n",
            "|     2022-08|         3|  7.0| 5859.333333333333|             182.0|\n",
            "|     2022-09|         3| 19.0|           12728.0|30.666666666666668|\n",
            "|     2022-10|         1| 11.0|            8765.0|              18.0|\n",
            "|     2022-11|         3| 12.0|12989.333333333334|              60.0|\n",
            "|     2022-12|         2| 14.5|           12199.5|               8.0|\n",
            "|     2023-01|         4| 11.5|           7268.25|            118.75|\n",
            "|     2023-02|         3| 11.0|            9495.0|133.33333333333334|\n",
            "|     2023-03|         1|  3.0|            2789.0|              69.0|\n",
            "|     2023-04|         3| 19.0|14489.333333333334| 69.66666666666667|\n",
            "|     2023-05|         2| 19.0|           10541.0|              27.0|\n",
            "|     2023-10|         2| 12.0|            5028.5|             182.0|\n",
            "|     2024-03|         2|  4.0|            1468.5|              62.0|\n",
            "|     2024-05|         2|  2.0|            1877.0|              25.5|\n",
            "|     2024-06|         2|  1.5|             706.0|              44.0|\n",
            "+------------+----------+-----+------------------+------------------+\n",
            "\n"
          ]
        }
      ]
    }
  ]
}